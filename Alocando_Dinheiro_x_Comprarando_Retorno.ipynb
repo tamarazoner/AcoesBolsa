{
  "nbformat": 4,
  "nbformat_minor": 0,
  "metadata": {
    "colab": {
      "provenance": [],
      "toc_visible": true,
      "authorship_tag": "ABX9TyOBqer1pIHqpesoMy5/Tv7M",
      "include_colab_link": true
    },
    "kernelspec": {
      "name": "python3",
      "display_name": "Python 3"
    },
    "language_info": {
      "name": "python"
    }
  },
  "cells": [
    {
      "cell_type": "markdown",
      "metadata": {
        "id": "view-in-github",
        "colab_type": "text"
      },
      "source": [
        "<a href=\"https://colab.research.google.com/github/tamarazoner/AcoesBolsa/blob/main/Alocando_Dinheiro_x_Comprarando_Retorno.ipynb\" target=\"_parent\"><img src=\"https://colab.research.google.com/assets/colab-badge.svg\" alt=\"Open In Colab\"/></a>"
      ]
    },
    {
      "cell_type": "code",
      "metadata": {
        "id": "1DNWt98bU4bz",
        "colab": {
          "base_uri": "https://localhost:8080/",
          "height": 522
        },
        "outputId": "255e2d28-b9a5-4af2-abfc-c56aaa85193c"
      },
      "source": [
        "import pandas as pd\n",
        "import numpy as np\n",
        "from pandas_datareader import data as dt\n",
        "import datetime\n",
        "!pip install yfinance\n",
        "import yfinance as y\n",
        "import matplotlib.pyplot as plt\n",
        "%matplotlib inline"
      ],
      "execution_count": 3,
      "outputs": [
        {
          "output_type": "stream",
          "name": "stdout",
          "text": [
            "Looking in indexes: https://pypi.org/simple, https://us-python.pkg.dev/colab-wheels/public/simple/\n",
            "Collecting yfinance\n",
            "  Downloading yfinance-0.1.74-py2.py3-none-any.whl (27 kB)\n",
            "Requirement already satisfied: lxml>=4.5.1 in /usr/local/lib/python3.7/dist-packages (from yfinance) (4.9.1)\n",
            "Requirement already satisfied: pandas>=0.24.0 in /usr/local/lib/python3.7/dist-packages (from yfinance) (1.3.5)\n",
            "Collecting requests>=2.26\n",
            "  Downloading requests-2.28.1-py3-none-any.whl (62 kB)\n",
            "\u001b[K     |████████████████████████████████| 62 kB 1.1 MB/s \n",
            "\u001b[?25hRequirement already satisfied: numpy>=1.15 in /usr/local/lib/python3.7/dist-packages (from yfinance) (1.21.6)\n",
            "Requirement already satisfied: multitasking>=0.0.7 in /usr/local/lib/python3.7/dist-packages (from yfinance) (0.0.11)\n",
            "Requirement already satisfied: python-dateutil>=2.7.3 in /usr/local/lib/python3.7/dist-packages (from pandas>=0.24.0->yfinance) (2.8.2)\n",
            "Requirement already satisfied: pytz>=2017.3 in /usr/local/lib/python3.7/dist-packages (from pandas>=0.24.0->yfinance) (2022.2.1)\n",
            "Requirement already satisfied: six>=1.5 in /usr/local/lib/python3.7/dist-packages (from python-dateutil>=2.7.3->pandas>=0.24.0->yfinance) (1.15.0)\n",
            "Requirement already satisfied: idna<4,>=2.5 in /usr/local/lib/python3.7/dist-packages (from requests>=2.26->yfinance) (2.10)\n",
            "Requirement already satisfied: charset-normalizer<3,>=2 in /usr/local/lib/python3.7/dist-packages (from requests>=2.26->yfinance) (2.1.1)\n",
            "Requirement already satisfied: urllib3<1.27,>=1.21.1 in /usr/local/lib/python3.7/dist-packages (from requests>=2.26->yfinance) (1.24.3)\n",
            "Requirement already satisfied: certifi>=2017.4.17 in /usr/local/lib/python3.7/dist-packages (from requests>=2.26->yfinance) (2022.6.15)\n",
            "Installing collected packages: requests, yfinance\n",
            "  Attempting uninstall: requests\n",
            "    Found existing installation: requests 2.23.0\n",
            "    Uninstalling requests-2.23.0:\n",
            "      Successfully uninstalled requests-2.23.0\n",
            "Successfully installed requests-2.28.1 yfinance-0.1.74\n"
          ]
        },
        {
          "output_type": "display_data",
          "data": {
            "application/vnd.colab-display-data+json": {
              "pip_warning": {
                "packages": [
                  "requests"
                ]
              }
            }
          },
          "metadata": {}
        }
      ]
    },
    {
      "cell_type": "markdown",
      "metadata": {
        "id": "RuclCk-aV57m"
      },
      "source": [
        "# Alocação da Carteira"
      ]
    },
    {
      "cell_type": "markdown",
      "metadata": {
        "id": "nrSoZpOLV9uY"
      },
      "source": [
        "## Alocação da Carteira"
      ]
    },
    {
      "cell_type": "markdown",
      "source": [],
      "metadata": {
        "id": "BLUDjBcw_FM2"
      }
    },
    {
      "cell_type": "markdown",
      "metadata": {
        "id": "0qoiacrXV22B"
      },
      "source": [
        "### Variáveis que recebe o tempo desejado"
      ]
    },
    {
      "cell_type": "code",
      "metadata": {
        "id": "9PGaZ25VU9kw"
      },
      "source": [
        "start = datetime.datetime(2018,1,1)\n",
        "end = datetime.datetime(2020,1,1)"
      ],
      "execution_count": null,
      "outputs": []
    },
    {
      "cell_type": "markdown",
      "metadata": {
        "id": "IJ3lM_uhVyol"
      },
      "source": [
        "### Criação da Lista do Carteira"
      ]
    },
    {
      "cell_type": "code",
      "metadata": {
        "id": "VwQSXTE3VBPa"
      },
      "source": [
        "petr = y.download('petr4.sa', start, end)\n",
        "vale = y.download('vale3.sa', start, end)\n",
        "itub = y.download('itub4.sa', start, end)\n",
        "wege = y.download('wege3.sa', start, end)\n",
        "ibov = y.download('^bvsp', start, end)\n",
        "\n",
        "#petr = dt.get_data_yahoo('petr4.sa', start, end)\n",
        "#vale = dt.get_data_yahoo('vale3.sa', start, end)\n",
        "#itub = dt.get_data_yahoo('itub4.sa', start, end)\n",
        "#wege = dt.get_data_yahoo('wege3.sa', start, end)\n",
        "#ibov = dt.get_data_yahoo('^bvsp', start, end)"
      ],
      "execution_count": null,
      "outputs": []
    },
    {
      "cell_type": "code",
      "metadata": {
        "id": "QKRjo9kzWJtd"
      },
      "source": [
        "petr"
      ],
      "execution_count": null,
      "outputs": []
    },
    {
      "cell_type": "markdown",
      "metadata": {
        "id": "r6iGpcZ4WOER"
      },
      "source": [
        "## Criando um For para normalização dos Retornos da Carteira"
      ]
    },
    {
      "cell_type": "code",
      "metadata": {
        "id": "hUxm_KVjWKxH"
      },
      "source": [
        "for papeis in (petr, vale, itub, wege):\n",
        "  papeis['Retorno Normalizado'] = papeis['Adj Close'] / papeis['Adj Close'].iloc[0]  #Normalizando os Retornos"
      ],
      "execution_count": null,
      "outputs": []
    },
    {
      "cell_type": "markdown",
      "metadata": {
        "id": "UizpUUonXJjB"
      },
      "source": [
        "## Alocando R$$ de acordo com o peso das carteira Capital Inicial de R$10.000,00\n",
        "## 25% petr, 25% vale, 25% itub, 25% wege"
      ]
    },
    {
      "cell_type": "markdown",
      "metadata": {
        "id": "BlSjRmp_ZOXh"
      },
      "source": [
        "### Alocando o peso de cada papel"
      ]
    },
    {
      "cell_type": "code",
      "metadata": {
        "id": "FO8RMeMkX6k_"
      },
      "source": [
        "for papeis, peso in zip((petr, vale, itub, wege), [.25, .25, .25, .25]):\n",
        "  papeis['Alocacao'] = papeis['Retorno Normalizado'] * peso"
      ],
      "execution_count": null,
      "outputs": []
    },
    {
      "cell_type": "code",
      "metadata": {
        "id": "uOjVtMpXYayo"
      },
      "source": [
        "petr"
      ],
      "execution_count": null,
      "outputs": []
    },
    {
      "cell_type": "markdown",
      "metadata": {
        "id": "h34CQaVVZYXb"
      },
      "source": [
        "### Calculando o Valor de acordo com seu peso de cada papel na carteira"
      ]
    },
    {
      "cell_type": "code",
      "metadata": {
        "id": "gGDWDI5OYcS_"
      },
      "source": [
        "# Valor de Patrimonio por papel\n",
        "for papeis in (petr, vale, itub, wege):\n",
        "  papeis ['Valor Posicao'] = papeis ['Alocacao'] * 1000"
      ],
      "execution_count": null,
      "outputs": []
    },
    {
      "cell_type": "markdown",
      "metadata": {
        "id": "ucjus104a97_"
      },
      "source": [
        "### Calculando o Retorno em R$$ da carteira de acordo com cada peso"
      ]
    },
    {
      "cell_type": "code",
      "metadata": {
        "id": "888ksNwlZ2JM"
      },
      "source": [
        "# Cada busca feita em um papel é igual a uma aba do excel\n",
        "# Para apurarmos o retorno da carteira de acordo com o seu peso que será o valor aplicado. Temos que unir tudo isso\n",
        "# em uma aba só e para isso vamos usar o Concat\n",
        "valor_posicoes = [petr['Valor Posicao'], vale['Valor Posicao'], itub['Valor Posicao'], wege['Valor Posicao']]\n",
        "valor_carteira = pd.concat(valor_posicoes, axis=1)\n",
        "# axis pega somente alinha, sem ele vai pegar a coluna inteira"
      ],
      "execution_count": null,
      "outputs": []
    },
    {
      "cell_type": "code",
      "metadata": {
        "id": "BgLH8-uMa9VW"
      },
      "source": [
        "valor_carteira"
      ],
      "execution_count": null,
      "outputs": []
    },
    {
      "cell_type": "markdown",
      "metadata": {
        "id": "7x936N7yb2AC"
      },
      "source": [
        "### Renomeando os Titulos dos Ativos ou Colunas"
      ]
    },
    {
      "cell_type": "code",
      "metadata": {
        "id": "t41MlDzwbgK7"
      },
      "source": [
        "valor_carteira.columns = ['Petro', 'Vale', 'Itub', 'Wege']"
      ],
      "execution_count": null,
      "outputs": []
    },
    {
      "cell_type": "code",
      "metadata": {
        "id": "C-JuDg9Obt7F"
      },
      "source": [
        "valor_carteira"
      ],
      "execution_count": null,
      "outputs": []
    },
    {
      "cell_type": "markdown",
      "metadata": {
        "id": "nL4Y6OhvcOKe"
      },
      "source": [
        "# Calculando o Retorno da Carteira"
      ]
    },
    {
      "cell_type": "markdown",
      "metadata": {
        "id": "bmJ4eEROyzQk"
      },
      "source": [
        "### Calculando o Retorno da Carteira"
      ]
    },
    {
      "cell_type": "code",
      "metadata": {
        "id": "yaCRoXvNcCu-"
      },
      "source": [
        "valor_carteira['Total R$'] = valor_carteira.sum(axis=1)"
      ],
      "execution_count": null,
      "outputs": []
    },
    {
      "cell_type": "code",
      "metadata": {
        "id": "bMyrrlpvtq0_"
      },
      "source": [
        "valor_carteira"
      ],
      "execution_count": null,
      "outputs": []
    },
    {
      "cell_type": "markdown",
      "metadata": {
        "id": "nvA8A11Zy7hV"
      },
      "source": [
        "### Comprarando o Retorno da Carteira com o Ibovespa e Exibindo no Gráfico Normalizado (Todos Ativos da Carteira em um único Ativo, Média dos ativos)"
      ]
    },
    {
      "cell_type": "code",
      "metadata": {
        "id": "PHNUwOIqzKL8"
      },
      "source": [
        "(valor_carteira['Total R$'] / valor_carteira['Total R$'].iloc[0]).plot(figsize=(10,8), label=\"Carteira\")\n",
        "(ibov['Adj Close'] /  ibov['Adj Close'].iloc[0]).plot(label=\"Ibovespa\")\n",
        "plt.legend()"
      ],
      "execution_count": null,
      "outputs": []
    },
    {
      "cell_type": "markdown",
      "metadata": {
        "id": "wfYBlB3KFZ5a"
      },
      "source": [
        "### Exibir Gráficamente de foma Normalizada Todos os Ativos da Carteira"
      ]
    },
    {
      "cell_type": "code",
      "metadata": {
        "id": "6MsnfzV40NUH"
      },
      "source": [
        "(valor_carteira / valor_carteira.iloc[0]).plot(figsize=(10,6))"
      ],
      "execution_count": null,
      "outputs": []
    },
    {
      "cell_type": "markdown",
      "metadata": {
        "id": "sSL1UINiGYpd"
      },
      "source": [
        "# Calculo do Retorno Diário da Carteira"
      ]
    },
    {
      "cell_type": "markdown",
      "metadata": {
        "id": "nKxcrUZxGp-0"
      },
      "source": [
        "### Calculo do Retorno Diário da Carteira"
      ]
    },
    {
      "cell_type": "code",
      "metadata": {
        "id": "0Nm3YQzfFTJH"
      },
      "source": [
        "valor_carteira['Retorno Diário'] = valor_carteira['Total R$'].pct_change() * 100"
      ],
      "execution_count": null,
      "outputs": []
    },
    {
      "cell_type": "code",
      "metadata": {
        "id": "9oqVJf5CG96l"
      },
      "source": [
        "valor_carteira.tail(5)"
      ],
      "execution_count": null,
      "outputs": []
    },
    {
      "cell_type": "markdown",
      "metadata": {
        "id": "oWfNnFPEHUIg"
      },
      "source": [
        "### Calculo do Retorno Médio Diário da Carteira"
      ]
    },
    {
      "cell_type": "code",
      "metadata": {
        "id": "wPiWOJZmG_EU"
      },
      "source": [
        "valor_carteira['Retorno Diário'].mean()"
      ],
      "execution_count": null,
      "outputs": []
    },
    {
      "cell_type": "markdown",
      "metadata": {
        "id": "4oJR_VyrHsyL"
      },
      "source": [
        "### Calculo do DESVIO PADÃO Diário da Carteira"
      ]
    },
    {
      "cell_type": "code",
      "metadata": {
        "id": "zbjB7FqNH11k"
      },
      "source": [
        "valor_carteira['Retorno Diário'].std()"
      ],
      "execution_count": null,
      "outputs": []
    },
    {
      "cell_type": "markdown",
      "metadata": {
        "id": "81D3s59kH_GX"
      },
      "source": [
        "## Calculo da Distribuição Diário da Carteira. Usando um Gráfico de Barras e ou Linha no modelo Histograma."
      ]
    },
    {
      "cell_type": "markdown",
      "metadata": {
        "id": "ND8kKL__JrKR"
      },
      "source": [
        "### Calculo da Distribuição Diário da Carteira. Usando um Gráfico de Barras modelo Histograma."
      ]
    },
    {
      "cell_type": "code",
      "metadata": {
        "id": "qM_o2sRkH8is"
      },
      "source": [
        "valor_carteira['Retorno Diário'].plot(kind='hist', bins=100, figsize=(8,5)) \n",
        "# kind='hist defique que será do modelo Histograma. bins=100 defina quantas linhas vão aparecer, barras."
      ],
      "execution_count": null,
      "outputs": []
    },
    {
      "cell_type": "markdown",
      "metadata": {
        "id": "SIcoqq0rJ2OP"
      },
      "source": [
        "### Calculo da Distribuição Diário da Carteira. Usando um Gráfico de Linha no modelo Histograma."
      ]
    },
    {
      "cell_type": "code",
      "metadata": {
        "id": "O5LxlHBTIZeY"
      },
      "source": [
        "valor_carteira['Retorno Diário'].plot(kind='kde', figsize=(8,5))"
      ],
      "execution_count": null,
      "outputs": []
    },
    {
      "cell_type": "markdown",
      "metadata": {
        "id": "dGQflGPhKXW9"
      },
      "source": [
        "## Calculando o Retorno ACUMULADO da carteira"
      ]
    },
    {
      "cell_type": "code",
      "metadata": {
        "id": "TaxWzDCmI_r7"
      },
      "source": [
        "retorno_aplicacao = (valor_carteira['Total R$'][-1] / valor_carteira['Total R$'][0] -1) * 100\n",
        "\n",
        "# retorno em Porcentagem"
      ],
      "execution_count": null,
      "outputs": []
    },
    {
      "cell_type": "code",
      "metadata": {
        "id": "GaNbkxe5KUlu"
      },
      "source": [
        "retorno_aplicacao "
      ],
      "execution_count": null,
      "outputs": []
    },
    {
      "cell_type": "markdown",
      "metadata": {
        "id": "PWXmjx2ucC16"
      },
      "source": [
        "# Variáveis que recebe o tempo desejado"
      ]
    },
    {
      "cell_type": "markdown",
      "metadata": {
        "id": "TwwDM80ScASC"
      },
      "source": [
        "### Variáveis que recebe o tempo desejado"
      ]
    },
    {
      "cell_type": "code",
      "metadata": {
        "id": "U-eqmQA2KWFQ"
      },
      "source": [
        "start = datetime.datetime(2018,1,1)\n",
        "end = datetime.datetime(2020,6,1)"
      ],
      "execution_count": null,
      "outputs": []
    },
    {
      "cell_type": "markdown",
      "metadata": {
        "id": "_jmgPcrRce9l"
      },
      "source": [
        "### Criação da Lista do Carteira"
      ]
    },
    {
      "cell_type": "code",
      "metadata": {
        "id": "WyuRDDJQcLrt"
      },
      "source": [
        "papeis = ['btow3.sa', 'lame4.sa', 'sled4.sa', '^bvsp']\n"
      ],
      "execution_count": null,
      "outputs": []
    },
    {
      "cell_type": "markdown",
      "metadata": {
        "id": "K-WV3Rw4dzqD"
      },
      "source": [
        "# Pegando Dados da Carteira no Yahoo"
      ]
    },
    {
      "cell_type": "code",
      "metadata": {
        "id": "W55KDpchch6r"
      },
      "source": [
        "#carteira = dt.get_data_yahoo(papeis, start, end)['Adj Close']\n",
        "carteira = y.download(papeis, start, end)['Adj Close']"
      ],
      "execution_count": null,
      "outputs": []
    },
    {
      "cell_type": "code",
      "metadata": {
        "id": "gMQG0X7Yc4Jw"
      },
      "source": [
        "carteira.columns = ['B2W Digital', 'Lojas Americanas', 'Saraiva', 'Ibovespa']"
      ],
      "execution_count": null,
      "outputs": []
    },
    {
      "cell_type": "code",
      "metadata": {
        "id": "Bx4JGs9ecwp5"
      },
      "source": [
        "carteira.tail()"
      ],
      "execution_count": null,
      "outputs": []
    },
    {
      "cell_type": "markdown",
      "metadata": {
        "id": "T9j7W45Bd8KV"
      },
      "source": [
        "# Mostrando o Resultado da Carteira no Gráfico NORMALIZADO"
      ]
    },
    {
      "cell_type": "code",
      "metadata": {
        "id": "OWPpvyCgdqw0"
      },
      "source": [
        "(carteira / carteira.iloc[0]).plot(figsize=(10,8))"
      ],
      "execution_count": null,
      "outputs": []
    }
  ]
}